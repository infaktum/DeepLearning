{
 "cells": [
  {
   "cell_type": "markdown",
   "metadata": {},
   "source": [
    "# PE2 Experimente mit dem Perzeptron"
   ]
  },
  {
   "cell_type": "code",
   "execution_count": 1,
   "metadata": {},
   "outputs": [],
   "source": [
    "import numpy as np\n",
    "from ki_kurs.knn import Perceptron\n",
    "\n",
    "from pprint import pprint\n",
    "import matplotlib.pyplot as plt"
   ]
  },
  {
   "cell_type": "markdown",
   "metadata": {},
   "source": [
    "## Was kann das Perzeptron?\n",
    "In diesem Notebook kann man mit unserem einfachen Perzeptron experimentieren"
   ]
  },
  {
   "cell_type": "markdown",
   "metadata": {},
   "source": [
    "### 1. Einfache Aussagenlogik"
   ]
  },
  {
   "cell_type": "markdown",
   "metadata": {},
   "source": [
    "Wir probieren unser generisches Perzeptron wieder an den logischen Schaltungen aus."
   ]
  },
  {
   "cell_type": "code",
   "execution_count": 2,
   "metadata": {},
   "outputs": [
    {
     "name": "stdout",
     "output_type": "stream",
     "text": [
      "--- AND ---\n",
      "[0 0] -> [0]\n",
      "[0 1] -> [0]\n",
      "[1 0] -> [0]\n",
      "[1 1] -> [0]\n",
      "--- OR ---\n",
      "[0 0] -> [1]\n",
      "[0 1] -> [1]\n",
      "[1 0] -> [0]\n",
      "[1 1] -> [1]\n",
      "--- NAND ---\n",
      "[0 0] -> [1]\n",
      "[0 1] -> [0]\n",
      "[1 0] -> [1]\n",
      "[1 1] -> [0]\n",
      "--- XOR ---\n",
      "[0 0] -> [1]\n",
      "[0 1] -> [1]\n",
      "[1 0] -> [1]\n",
      "[1 1] -> [1]\n"
     ]
    }
   ],
   "source": [
    "x = np.array([[x,y] for x in [0,1] for y in [0,1]])\n",
    "\n",
    "logic_functions = {\"AND\": lambda a,b : a and b, \n",
    "                   \"OR\": lambda a,b : a or b, \n",
    "                   \"NAND\": lambda a,b : not (a or b ), \n",
    "                   \"XOR\": lambda a,b : (a and not b) or (not a and b)\n",
    "                  }\n",
    "\n",
    "for n,f in logic_functions.items():\n",
    "    t = [[f(a,b)] for [a,b] in x]  \n",
    "    p = Perceptron(2,1)\n",
    "    p.train(x,t,epochs = 1)\n",
    "    print(f'--- {n} ---')\n",
    "    for tx in x:    \n",
    "        print(f'{tx} -> {p.forward(tx)}')   "
   ]
  },
  {
   "attachments": {},
   "cell_type": "markdown",
   "metadata": {},
   "source": [
    "### 2. Mustererkennung\n",
    "\n",
    "Das Perzeptron wurde auch zur Zeichenerkennung eingesetzt. Wir wollen einmal versuchen, ob wir vier verschiedene Zeichen Ziffern zuordnen können. Unserer Zeichensatz ist also recht klein, und er besteht auch nur aus 4x4 Pixeln:"
   ]
  },
  {
   "cell_type": "code",
   "execution_count": 3,
   "metadata": {},
   "outputs": [
    {
     "data": {
      "image/png": "[encoded data removed]",
      "text/plain": [
       "<Figure size 640x480 with 4 Axes>"
      ]
     },
     "metadata": {},
     "output_type": "display_data"
    }
   ],
   "source": [
    "def plot_zeichen(z):\n",
    "    img = np.reshape(z,(4,4)).astype(float)           \n",
    "    plt.imshow(img,cmap='Blues')\n",
    "\n",
    "zeichensatz = {\"eins\" : [1,1,1,1,1,1,1,1,0,0,0,0,0,0,0,0],\n",
    "               \"zwei\" : [1,1,0,0,1,1,0,0,1,1,0,0,1,1,0,0],\n",
    "               \"drei\" : [0,0,1,1,0,0,1,1,0,0,1,1,0,0,1,1],\n",
    "               \"vier\" : [0,0,0,0,0,0,0,0,1,1,1,1,1,1,1,1]}\n",
    "\n",
    "zeichen = list(zeichensatz.values())\n",
    "\n",
    "werte = [[1,0,0,0],[0,1,0,0],[0,0,1,0],[0,0,0,1]]\n",
    "\n",
    "for n,z in enumerate(zeichen):\n",
    "    plt.subplot(1,4,n+1)\n",
    "    plot_zeichen(z)\n"
   ]
  },
  {
   "cell_type": "markdown",
   "metadata": {},
   "source": [
    "Wir erzeugen und trainieren unser Perzeptron:"
   ]
  },
  {
   "cell_type": "code",
   "execution_count": 4,
   "metadata": {},
   "outputs": [],
   "source": [
    "p = Perceptron(16,4)\n",
    "p.train(zeichen,werte,epochs=1000)"
   ]
  },
  {
   "cell_type": "markdown",
   "metadata": {},
   "source": [
    "Unser Perzeptron kann nun die vier Muster richtig bestimmen:"
   ]
  },
  {
   "cell_type": "code",
   "execution_count": 5,
   "metadata": {},
   "outputs": [
    {
     "name": "stdout",
     "output_type": "stream",
     "text": [
      "[1, 0, 0, 0]: [1, 1, 1, 1, 1, 1, 1, 1, 0, 0, 0, 0, 0, 0, 0, 0] -> [1 0 0 0]\n",
      "[0, 1, 0, 0]: [1, 1, 0, 0, 1, 1, 0, 0, 1, 1, 0, 0, 1, 1, 0, 0] -> [0 1 0 0]\n",
      "[0, 0, 1, 0]: [0, 0, 1, 1, 0, 0, 1, 1, 0, 0, 1, 1, 0, 0, 1, 1] -> [0 0 1 0]\n",
      "[0, 0, 0, 1]: [0, 0, 0, 0, 0, 0, 0, 0, 1, 1, 1, 1, 1, 1, 1, 1] -> [0 0 0 1]\n"
     ]
    }
   ],
   "source": [
    "for z,w in zip(zeichen, werte):\n",
    "    print(f'{w}: {z} -> {p.forward(z)}')   "
   ]
  },
  {
   "cell_type": "markdown",
   "metadata": {},
   "source": [
    "Was passiert aber, wenn wir ein nicht-trainiertes Muster eingeben, weil beim \"Einscannen\" unseres Zeichensatzes ein Fehler aufgetreten ist?"
   ]
  },
  {
   "cell_type": "code",
   "execution_count": 6,
   "metadata": {},
   "outputs": [
    {
     "name": "stdout",
     "output_type": "stream",
     "text": [
      "[1, 0, 0, 0]: [1, 1, 0, 1, 1, 1, 1, 1, 0, 0, 0, 0, 0, 0, 1, 0] -> [1 1 0 0]\n",
      "[0, 1, 0, 0]: [1, 1, 0, 1, 1, 0, 1, 0, 1, 1, 0, 1, 1, 1, 0, 0] -> [0 1 0 0]\n",
      "[0, 0, 1, 0]: [0, 0, 1, 1, 1, 0, 1, 1, 0, 0, 1, 1, 0, 0, 1, 1] -> [0 0 0 0]\n",
      "[0, 0, 0, 1]: [0, 0, 1, 0, 0, 0, 0, 0, 0, 1, 1, 1, 1, 1, 1, 1] -> [0 0 0 0]\n"
     ]
    },
    {
     "data": {
      "image/png": "[encoded data removed]",
      "text/plain": [
       "<Figure size 640x480 with 4 Axes>"
      ]
     },
     "metadata": {},
     "output_type": "display_data"
    }
   ],
   "source": [
    "def rauschen(z,factor=0):\n",
    "    return [ (1 - z if np.random.randint(100) < factor else z) for z in z]\n",
    "    \n",
    "for n,(z,w) in enumerate(list(zip(zeichen, werte))):\n",
    "    z = rauschen(zeichen[n],10)\n",
    "    plt.subplot(1,4,n+1)\n",
    "    plot_zeichen(z)\n",
    "    print(f'{w}: {z} -> {p.forward(z)}')   "
   ]
  },
  {
   "cell_type": "markdown",
   "metadata": {},
   "source": [
    "Das Perzeptron ist nicht sonderlich robust gegenüber verrauschten Signalen."
   ]
  },
  {
   "cell_type": "code",
   "execution_count": 7,
   "metadata": {},
   "outputs": [
    {
     "name": "stdout",
     "output_type": "stream",
     "text": [
      "[1, 1, 0, 0, 1, 1, 0, 0, 0, 0, 0, 0, 0, 0, 0, 0] -> [1 1 0 0]\n"
     ]
    },
    {
     "data": {
      "image/png": "[encoded data removed]",
      "text/plain": [
       "<Figure size 640x480 with 1 Axes>"
      ]
     },
     "metadata": {},
     "output_type": "display_data"
    }
   ],
   "source": [
    "z = [1,1,0,0,1,1,0,0,0,0,0,0,0,0,0,0]\n",
    "\n",
    "plot_zeichen(z)\n",
    "print(f'{z} -> {p.forward(z)}')"
   ]
  },
  {
   "cell_type": "code",
   "execution_count": null,
   "metadata": {},
   "outputs": [],
   "source": []
  }
 ],
 "metadata": {
  "kernelspec": {
   "display_name": "Python 3 (ipykernel)",
   "language": "python",
   "name": "python3"
  },
  "language_info": {
   "codemirror_mode": {
    "name": "ipython",
    "version": 3
   },
   "file_extension": ".py",
   "mimetype": "text/x-python",
   "name": "python",
   "nbconvert_exporter": "python",
   "pygments_lexer": "ipython3",
   "version": "3.10.13"
  }
 },
 "nbformat": 4,
 "nbformat_minor": 4
}
