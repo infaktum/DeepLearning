{
 "cells": [
  {
   "cell_type": "markdown",
   "id": "d893d5df-2aea-42c8-aee4-2938c6bba034",
   "metadata": {},
   "source": [
    "# MNIST 5: Etwas einfachere Daten"
   ]
  },
  {
   "cell_type": "code",
   "execution_count": 1,
   "id": "d3f74057-bc9d-4b4a-90c9-3b8c956693e7",
   "metadata": {
    "tags": []
   },
   "outputs": [],
   "source": [
    "import numpy as np\n",
    "\n",
    "from ki_kurs.mnist import MnistDataset\n",
    "from ki_kurs.knn import TwoWayNetwork \n",
    "\n",
    "import matplotlib.pyplot as plt"
   ]
  },
  {
   "cell_type": "markdown",
   "id": "c4636999-ce88-481f-a228-c2451f83507c",
   "metadata": {},
   "source": [
    "### Ein einfacher Datensatz für die \"Zahlen\" 0 - 3\n",
    "\n",
    "Der MNist-Datensatz ist als Demonstrationsobjekt für neuronale Netzwerke sehr wertvoll. Die Daten stammen \"aus dem echten leben\", sind umfangreich und sehr variantenreich. Unser einfaches Neuronales Netzwerk kommt trotzdem sehr schnell und einfach damit klar. \n",
    "\n",
    "Wir verstehen allerdings nicht wirkich, wie das Netzwerk die Daten verarbeitet. Unser \"umgedrehtes\" Netzwerk sollte eigentlich eine Art \"idealer Zeichensatz\" sein, doch den gibt es gar nicht. Es gibt zwar die Idealvorstellung einer geschriebenen Zahl, etwa einer 2, wie wir sie vielleicht einmal und der Gundschule gelernt haben, aber in der Realität kommen wir auch mit geschriebenen Zahlen klar, die weit davon abweichen. \n",
    "\n",
    "Wir wollen unser Netzwerk einmal ausschließlich mit \"perfekt geschriebenen\" Zahlen füttern. Dafür haben wir aber elider keine Daten. Wir behelfen uns mit einem selbst gebauten Ersatz. Wir haben mit einem texteditor eine CSV-Datei erstellt und die Ziffern 0, 1, 2, 3 mit neuen Symbolen dargestellt, die in ein 5x5-Raster passen. Das sieht so aus:"
   ]
  },
  {
   "cell_type": "code",
   "execution_count": 2,
   "id": "f5faa179-ea50-4c7d-ab43-7701d7417f9f",
   "metadata": {},
   "outputs": [
    {
     "data": {
      "image/png": "[encoded data removed]",
      "text/plain": [
       "<Figure size 500x500 with 4 Axes>"
      ]
     },
     "metadata": {},
     "output_type": "display_data"
    }
   ],
   "source": [
    "size, values = 5, 4\n",
    "simple_data = MnistDataset(\"daten/simple4.csv\",size,size)\n",
    "fig = plt.figure(figsize=(5,5))\n",
    "\n",
    "simple_data.plot_list(1,values)\n",
    "plt.show()      "
   ]
  },
  {
   "cell_type": "markdown",
   "id": "5d3992d5-6203-49ef-8fc8-bb49932cf6f2",
   "metadata": {},
   "source": [
    "Wir haben alle unsere Klassen so geschrieben, dass sie auch mit diesen Zeichen umgehen können! Dies gilt auch für das Netzwerk, das wir jetzt tranieren:"
   ]
  },
  {
   "cell_type": "code",
   "execution_count": 3,
   "id": "76cc5d1d-b72f-46c1-87ca-db8939c5e2e5",
   "metadata": {},
   "outputs": [],
   "source": [
    "network = TwoWayNetwork(size*size,10,values)\n",
    "\n",
    "scale = lambda record: (np.asfarray(record[1:]) / 255.0 * 0.99) + 0.01\n",
    "\n",
    "for epoch in range(1000):\n",
    "    for record in simple_data:\n",
    "        # Skalierung\n",
    "        input = scale(record)\n",
    "    \n",
    "        # Das gewuenschte Ergebnis\n",
    "        targets = np.zeros(values) + 0.01\n",
    "        targets[int(record[0])] = 0.99\n",
    "        \n",
    "        network.train(input, targets)\n",
    "        pass"
   ]
  },
  {
   "cell_type": "markdown",
   "id": "e1fcbbb4-10a7-4bb5-8668-53695115fa4e",
   "metadata": {},
   "source": [
    "Wir fragen jetzt mal alle gelernten Werte ab:"
   ]
  },
  {
   "cell_type": "code",
   "execution_count": 4,
   "id": "1043d2c5-1214-4bfb-925d-7cf2d82c3e8e",
   "metadata": {},
   "outputs": [
    {
     "name": "stdout",
     "output_type": "stream",
     "text": [
      "[0.95852382 0.02249999 0.03584782 0.03095002]\n",
      "[0.024163   0.95984004 0.03398622 0.03604607]\n",
      "[0.02764557 0.03158644 0.9557638  0.00548805]\n",
      "[0.03481668 0.03162295 0.02673373 0.95696265]\n"
     ]
    }
   ],
   "source": [
    "for d in simple_data:\n",
    "    output = network.query(scale(d))\n",
    "    print(output)"
   ]
  },
  {
   "cell_type": "markdown",
   "id": "3e32197e-df79-47dc-93bb-1051d5943435",
   "metadata": {},
   "source": [
    "Wie zu erwarten, erhalten wir eine Performace von 100 %, d. h. alle Werte werden richtig erkannt.\n",
    "\n",
    "Wie sehen nun für das Netzwerk die idealen Ziffern-Symbole aus?"
   ]
  },
  {
   "cell_type": "code",
   "execution_count": 5,
   "id": "5507847d-6dbd-4188-93ec-0b5f2d6d0d99",
   "metadata": {
    "tags": []
   },
   "outputs": [],
   "source": [
    "def create_output(n):\n",
    "    output = np.zeros(values) + 0.01\n",
    "    output[n] = 0.99\n",
    "    return output;\n",
    "\n",
    "def image_from_output(network,n):\n",
    "    return network.reverse(create_output(n))\n",
    "\n",
    "def show_image(data,rows,cols):\n",
    "    plt.imshow(data.reshape(rows,cols), cmap='Greys', interpolation='None')\n"
   ]
  },
  {
   "cell_type": "code",
   "execution_count": 6,
   "id": "261e896f-6f86-4aaf-aee7-1819455de4c1",
   "metadata": {
    "tags": []
   },
   "outputs": [
    {
     "data": {
      "image/png": "[encoded data removed]",
      "text/plain": [
       "<Figure size 1000x1000 with 4 Axes>"
      ]
     },
     "metadata": {},
     "output_type": "display_data"
    }
   ],
   "source": [
    "plt.figure(figsize=(10,10))\n",
    "for col,v in enumerate(range(values)): \n",
    "    plt.subplot(1,values,col+1)    \n",
    "    input = image_from_output(network,v)\n",
    "    show_image(input,size,size) \n",
    "\n",
    "plt.show()"
   ]
  },
  {
   "cell_type": "markdown",
   "id": "298a9497-511c-4391-8cac-2f263cd0fd28",
   "metadata": {},
   "source": [
    "Die Ideal-Bilder entsprechen schon eher unseren Vorstellungen. Sie spiegeln vor allem die Symmetrie der Daten wieder. Sie weichen trotzdem von den vier ursprünglichen, künstlich erzeugten Werten ab."
   ]
  }
 ],
 "metadata": {
  "kernelspec": {
   "display_name": "Python 3 (ipykernel)",
   "language": "python",
   "name": "python3"
  },
  "language_info": {
   "codemirror_mode": {
    "name": "ipython",
    "version": 3
   },
   "file_extension": ".py",
   "mimetype": "text/x-python",
   "name": "python",
   "nbconvert_exporter": "python",
   "pygments_lexer": "ipython3",
   "version": "3.10.13"
  }
 },
 "nbformat": 4,
 "nbformat_minor": 5
}
