{
 "cells": [
  {
   "cell_type": "markdown",
   "id": "61238a41-4ab9-4bd9-bfaa-4af766befd4b",
   "metadata": {},
   "source": [
    "# NN 1: Ein generisches Künstliches Neuronales Netzwerk"
   ]
  },
  {
   "cell_type": "code",
   "execution_count": 1,
   "id": "6d01e201-f755-4c3d-86cb-f689714036a3",
   "metadata": {},
   "outputs": [],
   "source": [
    "import numpy as np"
   ]
  },
  {
   "cell_type": "code",
   "execution_count": 2,
   "id": "71d0d310-33f4-45d8-b625-6bec4bb5e9a7",
   "metadata": {},
   "outputs": [],
   "source": [
    "def get_scaler(min_scale = 0.,max_scale = 1.):\n",
    "    return lambda record: (np.asfarray(record[1:]) / 255.0 * max_scale) + min_scale\n",
    "\n",
    "sigmoid = lambda x: 1/(1+ np.exp(-x))\n",
    "relu = lambda x: np.max(0,x)"
   ]
  },
  {
   "cell_type": "code",
   "execution_count": 3,
   "id": "fe537727-4d66-4716-984c-998591d457d8",
   "metadata": {},
   "outputs": [
    {
     "name": "stdout",
     "output_type": "stream",
     "text": [
      "[array([1, 4]), array([[0.59927373, 0.86489049]]), array([[[0.61808386, 0.66703492],\n",
      "        [0.3115059 , 0.24147497]]])]\n"
     ]
    }
   ],
   "source": [
    "class NeuralNetwork:\n",
    "    def __init__(self,*nodes,transfer=sigmoid):\n",
    "        '''  Setzen der Parameter des Neuronalen Netzwerks '''\n",
    "        \n",
    "        self.nodes = [np.zeros(n) for n in nodes]\n",
    "        self.weights = [np.array([np.random.normal(loc=0.0,scale=pow(nodes[k],-0.5),size=(nodes[k], nodes[k+1]))]) for k in range(len(nodes) -1) ]\n",
    "        self.biases = np.zeros(len(nodes))\n",
    "        self.transfer = transfer\n",
    "        pass\n",
    "\n",
    "    def query(self,input):\n",
    "        inputs =  np.transpose(np.array(input, ndmin=2))\n",
    "        self.nodes[0] = input      \n",
    "        self.feedforward()      \n",
    "        pass\n",
    "        \n",
    "    def feedforward(self):\n",
    "        for k in range(len(self.nodes) - 1):\n",
    "            self.nodes[k+1] = self.transfer(np.dot(self.weights[k],self.nodes[k]))\n",
    "      \n",
    "        print(self.nodes)\n",
    "        pass\n",
    "\n",
    "    def train(self, lr, epochs = 1):\n",
    "\n",
    "        pass\n",
    "\n",
    "    def backpropagation(self):\n",
    "        pass\n",
    "\n",
    "    def performance(self):\n",
    "\n",
    "        pass\n",
    "\n",
    "    def geometry(self):\n",
    "        return [len(self.nodes[k]) for k in range(len(self.nodes))]\n",
    "\n",
    "    def weights(self):\n",
    "        return self.weights \n",
    "\n",
    "\n",
    "    def biases(self):\n",
    "        return self.weights\n",
    "\n",
    "    def save(self,file):\n",
    "        '''Speichert die Gewichte des Netzwerks'''\n",
    "        with open(file + '.npy', 'wb') as f:\n",
    "            np.save(f,self.weights, allow_pickle=True)\n",
    "            np.save(f,self.biases, allow_pickle=True)\n",
    "\n",
    "    def load(self,file):\n",
    "        '''Lädt die Gewichte des Netzwerks'''        \n",
    "        with open(file + '.npy', 'rb') as f:\n",
    "            self.weights = np.load(f)\n",
    "            self.biases = np.load(f)    \n",
    "        \n",
    "    def __str__(self):\n",
    "        return \"KNN (Geometrie = {0})\".format(self.geometry())"
   ]
  },
  {
   "cell_type": "code",
   "execution_count": 4,
   "id": "d1354d60-f6ad-4523-b806-28e6cbef84b0",
   "metadata": {},
   "outputs": [
    {
     "name": "stdout",
     "output_type": "stream",
     "text": [
      "[10  8]\n"
     ]
    }
   ],
   "source": [
    "a = [[1,4],[2,2]]\n",
    "\n",
    "b = [2,2]\n",
    "\n",
    "print(np.dot(a,b))"
   ]
  },
  {
   "cell_type": "code",
   "execution_count": null,
   "id": "cd96fb2e-94a8-4cd0-b524-39c820db5295",
   "metadata": {},
   "outputs": [],
   "source": []
  }
 ],
 "metadata": {
  "kernelspec": {
   "display_name": "Python 3 (ipykernel)",
   "language": "python",
   "name": "python3"
  },
  "language_info": {
   "codemirror_mode": {
    "name": "ipython",
    "version": 3
   },
   "file_extension": ".py",
   "mimetype": "text/x-python",
   "name": "python",
   "nbconvert_exporter": "python",
   "pygments_lexer": "ipython3",
   "version": "3.10.13"
  }
 },
 "nbformat": 4,
 "nbformat_minor": 5
}
