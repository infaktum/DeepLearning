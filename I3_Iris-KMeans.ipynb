{
 "cells": [
  {
   "cell_type": "markdown",
   "metadata": {
    "tags": []
   },
   "source": [
    "# Iris 3: Iris-Dataset - Clusterung mit k-Means\n",
    "\n",
    "Wir wollen nun einen Klassifizierer für Iris-Blüten mit Hilfe des k-Means-Algorithmus erstellen. \n",
    "\n",
    "### Das Modell\n",
    "Wir wissen, dass es drei verschiedene Iris-Blüten gibt. Wir vermuten nun, dass sich diese durch Gestalt der Bütenblätter unterscheiden lassen. Nicht nur das: Die Blüten bilden in unserem __Modell__ drei Cluster, die sich um einen zentralen Punkt bilden. Wir versuchen nun, diese Cluster bzw. diese Mittelpunkte zu bestimmen. Die Mittelpunkte stellen eine Art _ideale_ Iris-Blüte dar, also den Prototyp der jeweiligen Iris-Art, von denen die realen Iris-Blüten nur jede für sich etwas abweichen."
   ]
  },
  {
   "cell_type": "code",
   "execution_count": 1,
   "metadata": {},
   "outputs": [],
   "source": [
    "import numpy as np\n",
    "import matplotlib.pyplot as plt\n",
    "from pprint import pprint\n",
    "\n",
    "import ki_kurs.kmeans as km\n",
    "\n",
    "%matplotlib inline"
   ]
  },
  {
   "cell_type": "markdown",
   "metadata": {},
   "source": [
    "### En Klasse für den Iris-Datensatz\n",
    "Wir laden den Iris-Datensatz, der aus jeweils drei Sätzen an Daten zu je 50 Datensätzen besteht. Dann wenden wir unseren Algorithmus auf den kompletten Datensatz an. Dazu bauen wir eine kleine Klasse, die die Daten verwaltet."
   ]
  },
  {
   "cell_type": "code",
   "execution_count": 5,
   "metadata": {
    "tags": []
   },
   "outputs": [],
   "source": [
    "mapping = {'Iris-setosa' : 0, 'Iris-versicolor' : 1, 'Iris-virginica' : 2 } \n",
    "inv_mapping = {v: k for k, v in mapping.items()}\n",
    "\n",
    "cmap = {'Iris-setosa' : 'r', 'Iris-versicolor' : 'g', 'Iris-virginica' : 'b' } \n",
    "\n",
    "class IrisDataSet:    \n",
    "    \"\"\" Wrapper-Klasse für den Iris-Datensatz. \"\"\"\n",
    "    def __init__(self,csv_file):  \n",
    "        ''' Liest das Iris Dataset ein. '''    \n",
    "        with open(csv_file, 'r') as file: \n",
    "            lines = file.read().splitlines()      \n",
    "        self._rohdaten = np.array([line.split(',') for line in lines[1:]])\n",
    "        werte,names = self._rohdaten[:,:-1].astype(float),self._rohdaten[:,-1]\n",
    "\n",
    "        # Bestimme Minimal- und Maximalwerte und erzeuge einen Skalierer\n",
    "        alle_werte = werte.flatten()\n",
    "        min, max = alle_werte.min(), alle_werte.max()\n",
    "        self.scale = lambda x : x / (max - min)\n",
    "        self._struktdaten = list(map(list, (zip(self.scale(werte),[mapping[n] for n in names]))))\n",
    "\n",
    "    def __len__(self):\n",
    "        return len(self._rohdaten)\n",
    "    \n",
    "    def __getitem__(self,index):\n",
    "        \"\"\" Liefert den Eintrag mit dem angegebenen Index. \"\"\"        \n",
    "        return self._rohdaten[index]\n",
    "    \n",
    "    def values(self):\n",
    "        return self._rohdaten[:,:-1].astype(float),self._rohdaten[:,-1]\n",
    "    \n",
    "    def daten(self):\n",
    "        return self._rohdaten[:,:-1].astype(float)\n",
    "        \n",
    "    def tt_daten(self,anzahl_training):\n",
    "        ''' Bereitet das DataSet vor und teilt es in Training- und Testdaten auf '''\n",
    "        np.random.shuffle(self._struktdaten)           # Gut mischen\n",
    "        return self._struktdaten[:anzahl_training],self._struktdaten[anzahl_training:]\n"
   ]
  },
  {
   "cell_type": "markdown",
   "metadata": {},
   "source": [
    "Das Einladen geht nun einfach so:"
   ]
  },
  {
   "cell_type": "code",
   "execution_count": 10,
   "metadata": {},
   "outputs": [],
   "source": [
    "iris = IrisDataSet(\"daten/iris.csv\")"
   ]
  },
  {
   "cell_type": "markdown",
   "metadata": {},
   "source": [
    "### Berechnung der drei Cluster mit Hilfe von k-means"
   ]
  },
  {
   "cell_type": "code",
   "execution_count": 11,
   "metadata": {},
   "outputs": [
    {
     "name": "stdout",
     "output_type": "stream",
     "text": [
      "Cluster 0 (62 Punkte): Mittelpunkt [5.9016129  2.7483871  4.39354839 1.43387097]\n",
      "Cluster 1 (50 Punkte): Mittelpunkt [5.006 3.418 1.464 0.244]\n",
      "Cluster 2 (38 Punkte): Mittelpunkt [6.85       3.07368421 5.74210526 2.07105263]\n"
     ]
    }
   ],
   "source": [
    "werte = iris.daten()\n",
    "k = 3   # Anzahl der Cluster \n",
    "ms = km.init(werte,k)  # Zufaellige Startwerte \n",
    "cs,ms = km.kmeans(werte,ms)\n",
    "\n",
    "km.print_clusters(cs,ms)"
   ]
  },
  {
   "cell_type": "markdown",
   "metadata": {
    "tags": []
   },
   "source": [
    "### Visualisierung mit matplotlib"
   ]
  },
  {
   "cell_type": "markdown",
   "metadata": {
    "tags": []
   },
   "source": [
    "Wir zeichnen wieder die Daten der Iris-Blätter auf und färben sie nach Iris-Sorte ein. Zusätzlich tragen wir die Cluster-Mittelpunkte ein."
   ]
  },
  {
   "cell_type": "code",
   "execution_count": 5,
   "metadata": {},
   "outputs": [],
   "source": [
    "def iris_plot (iris,ms,ax1,ax2):\n",
    "    x,y = iris.values()\n",
    "    \n",
    "    mapping = {'Iris-setosa':1,'Iris-virginica':2,'Iris-versicolor':3}\n",
    "    mapping_rev = {k:v for v,k in mapping.items()}\n",
    "    y_val = [mapping[y] for y in y]\n",
    "    plt.scatter(x[:, ax1], x[:, ax2], s=100, marker='o',c=y_val)\n",
    "    plt.scatter(ms[:,ax1],ms[:,ax2], marker='+',c='r')\n"
   ]
  },
  {
   "cell_type": "code",
   "execution_count": 14,
   "metadata": {},
   "outputs": [
    {
     "ename": "NameError",
     "evalue": "name 'iris_plot' is not defined",
     "output_type": "error",
     "traceback": [
      "\u001b[0;31m---------------------------------------------------------------------------\u001b[0m",
      "\u001b[0;31mNameError\u001b[0m                                 Traceback (most recent call last)",
      "Cell \u001b[0;32mIn[14], line 5\u001b[0m\n\u001b[1;32m      3\u001b[0m \u001b[38;5;28;01mfor\u001b[39;00m i,c \u001b[38;5;129;01min\u001b[39;00m \u001b[38;5;28menumerate\u001b[39m(comb):\n\u001b[1;32m      4\u001b[0m     plt\u001b[38;5;241m.\u001b[39msubplot(\u001b[38;5;241m1\u001b[39m,\u001b[38;5;241m3\u001b[39m,i\u001b[38;5;241m+\u001b[39m\u001b[38;5;241m1\u001b[39m)\n\u001b[0;32m----> 5\u001b[0m     \u001b[43miris_plot\u001b[49m(iris,ms,c[\u001b[38;5;241m0\u001b[39m],c[\u001b[38;5;241m1\u001b[39m])\n\u001b[1;32m      7\u001b[0m plt\u001b[38;5;241m.\u001b[39mshow()\n",
      "\u001b[0;31mNameError\u001b[0m: name 'iris_plot' is not defined"
     ]
    },
    {
     "data": {
      "image/png": "[encoded data removed]",
      "text/plain": [
       "<Figure size 1000x400 with 1 Axes>"
      ]
     },
     "metadata": {},
     "output_type": "display_data"
    }
   ],
   "source": [
    "plt.figure(figsize=(10, 4))\n",
    "comb = [[1,2],[1,3],[1,4]]\n",
    "for i,c in enumerate(comb):\n",
    "    plt.subplot(1,3,i+1)\n",
    "    iris_plot(iris,ms,c[0],c[1])\n",
    "\n",
    "plt.show()\n"
   ]
  },
  {
   "cell_type": "code",
   "execution_count": null,
   "metadata": {},
   "outputs": [],
   "source": []
  }
 ],
 "metadata": {
  "kernelspec": {
   "display_name": "Python 3 (ipykernel)",
   "language": "python",
   "name": "python3"
  },
  "language_info": {
   "codemirror_mode": {
    "name": "ipython",
    "version": 3
   },
   "file_extension": ".py",
   "mimetype": "text/x-python",
   "name": "python",
   "nbconvert_exporter": "python",
   "pygments_lexer": "ipython3",
   "version": "3.10.13"
  }
 },
 "nbformat": 4,
 "nbformat_minor": 4
}
