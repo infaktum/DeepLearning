{
 "cells": [
  {
   "cell_type": "markdown",
   "id": "7db1d9f0-d57a-403a-81c0-ee9f26ceb48a",
   "metadata": {},
   "source": [
    "# NN2 Convolutional Network"
   ]
  },
  {
   "cell_type": "code",
   "execution_count": 2,
   "id": "323c7e80-8ec8-4ffc-8dc2-9dcfa8f2f1b5",
   "metadata": {},
   "outputs": [],
   "source": [
    "import numpy as np"
   ]
  },
  {
   "cell_type": "code",
   "execution_count": 4,
   "id": "7c12097c-e4c3-4567-9fbe-90e4b8dfc25b",
   "metadata": {},
   "outputs": [],
   "source": [
    "\n",
    "def forward_pass(self, a_prev: np.array) -> np.array:\n",
    "    n, h_in, w_in, _ = a_prev.shape\n",
    "    _, h_out, w_out, _ = output_shape\n",
    "    h_f, w_f, _, n_f = self._w.shape\n",
    "    \n",
    "    output_shape = self.calculate_output_dims(input_dims=a_prev.shape)\n",
    "    output = np.zeros(output_shape)\n",
    "    \n",
    "    for i in range(h_out):\n",
    "        for j in range(w_out):\n",
    "            h_start, w_start = i, j\n",
    "            h_end, w_end = h_start + h_f, w_start + w_f\n",
    "\n",
    "            output[:, i, j, :] = np.sum(\n",
    "                a_prev[:, h_start:h_end, w_start:w_end, :, np.newaxis] *\n",
    "                self._w[np.newaxis, :, :, :],\n",
    "                axis=(1, 2, 3)\n",
    "            )\n",
    "\n",
    "    return output + self._b"
   ]
  },
  {
   "cell_type": "code",
   "execution_count": null,
   "id": "ce656e9f-6944-4d32-9a2e-0b48a0e59de5",
   "metadata": {},
   "outputs": [],
   "source": []
  }
 ],
 "metadata": {
  "kernelspec": {
   "display_name": "Python 3 (ipykernel)",
   "language": "python",
   "name": "python3"
  },
  "language_info": {
   "codemirror_mode": {
    "name": "ipython",
    "version": 3
   },
   "file_extension": ".py",
   "mimetype": "text/x-python",
   "name": "python",
   "nbconvert_exporter": "python",
   "pygments_lexer": "ipython3",
   "version": "3.10.13"
  }
 },
 "nbformat": 4,
 "nbformat_minor": 5
}
